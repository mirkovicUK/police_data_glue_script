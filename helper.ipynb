{
 "cells": [
  {
   "cell_type": "code",
   "execution_count": 1,
   "id": "a4462898",
   "metadata": {},
   "outputs": [
    {
     "name": "stderr",
     "output_type": "stream",
     "text": [
      "Setting default log level to \"WARN\".\n",
      "To adjust logging level use sc.setLogLevel(newLevel). For SparkR, use setLogLevel(newLevel).\n",
      "25/08/10 19:41:43 WARN Job$: Job run ID police_data_job is either null or empty or its same as Job name. \n",
      "SLF4J: Failed to load class \"org.slf4j.impl.StaticLoggerBinder\".\n",
      "SLF4J: Defaulting to no-operation (NOP) logger implementation\n",
      "SLF4J: See http://www.slf4j.org/codes.html#StaticLoggerBinder for further details.\n"
     ]
    }
   ],
   "source": [
    "import sys\n",
    "from awsglue.transforms import *\n",
    "from awsglue.utils import getResolvedOptions\n",
    "from pyspark.context import SparkContext\n",
    "from awsglue.context import GlueContext\n",
    "from awsglue.job import Job\n",
    "\n",
    "\n",
    "\n",
    "sys.argv.extend(['--DATABASE', 'default', '--TABLE', 'm2045_mps_antisocial_behaviour_txt'])\n",
    "\n",
    "params = ['DATABASE', 'TABLE']\n",
    "if '--JOB_NAME' in sys.argv:\n",
    "    params.append('JOB_NAME')\n",
    "args = getResolvedOptions(sys.argv, params)\n",
    "\n",
    "sc = SparkContext.getOrCreate()\n",
    "glueContext = GlueContext(sc)\n",
    "spark = glueContext.spark_session\n",
    "job = Job(glueContext)\n",
    "\n",
    "if 'JOB_NAME' in args:\n",
    "    jobname = args['JOB_NAME']\n",
    "else:\n",
    "    jobname = \"police_data_job\"\n",
    "job.init(jobname, args)\n",
    "\n",
    "#get logger for this glue job\n",
    "logger = glueContext.get_logger()\n",
    "logger.info(f\"Job {jobname} started with args: {args}\")\n",
    "\n"
   ]
  },
  {
   "cell_type": "code",
   "execution_count": 2,
   "id": "d8c04d2c",
   "metadata": {},
   "outputs": [
    {
     "name": "stderr",
     "output_type": "stream",
     "text": [
      "ANTLR Tool version 4.3 used for code generation does not match the current runtime version 4.9.3\n",
      "ANTLR Tool version 4.3 used for code generation does not match the current runtime version 4.9.3\n",
      "[Stage 0:>                                                          (0 + 1) / 1]\r"
     ]
    },
    {
     "name": "stdout",
     "output_type": "stream",
     "text": [
      "root\n",
      "|-- date: string\n",
      "|-- hour: string\n",
      "|-- op01: long\n",
      "|-- opening_type_1: string\n",
      "|-- op02: choice\n",
      "|    |-- long\n",
      "|    |-- string\n",
      "|-- opening_type_2: string\n",
      "|-- op03: choice\n",
      "|    |-- long\n",
      "|    |-- string\n",
      "|-- opening_type_3: string\n",
      "|-- cl01: choice\n",
      "|    |-- long\n",
      "|    |-- string\n",
      "|-- close_type_1: string\n",
      "|-- cl02: choice\n",
      "|    |-- long\n",
      "|    |-- string\n",
      "|-- close_type_2: string\n",
      "|-- cl03: string\n",
      "|-- close_type_3: string\n",
      "|-- resolution_type_1: string\n",
      "|-- resolution_type_2: string\n",
      "|-- ward: string\n",
      "|-- ward_code: string\n",
      "|-- response_time: long\n",
      "|-- duplicate: string\n",
      "|-- asbcount: long\n",
      "|-- datetime: long\n",
      "|-- ward_wardcode: string\n",
      "|-- safer_neighborhood_team_name: string\n",
      "|-- safer_neighborhood_team_code: string\n",
      "|-- safer_neighborhood_team_borough_name: string\n",
      "|-- safer_neighborhood_team_borough_code: string\n",
      "\n"
     ]
    },
    {
     "name": "stderr",
     "output_type": "stream",
     "text": [
      "                                                                                \r"
     ]
    }
   ],
   "source": [
    "def read_csv_to_dyf(glueContext, database, table):\n",
    "    \"\"\"\n",
    "    Reads a CSV file and returns a DynamicFrame.\n",
    "\n",
    "    Args:\n",
    "        glueContext (GlueContext): The Glue context object.\n",
    "        database (str): DataCatalog databse name\n",
    "        table (str): The name of the table in the DataCatalog.\n",
    "\n",
    "    Returns:\n",
    "        DynamicFrame: The DynamicFrame object representing the CSV data.\n",
    "    \"\"\"\n",
    "    # Read the CSV file into a DynamicFrame\n",
    "    dyf = glueContext.create_dynamic_frame.from_catalog(\n",
    "        database=database,\n",
    "        table_name=table)\n",
    "    return dyf\n",
    "dyf = read_csv_to_dyf(glueContext, args['DATABASE'], args['TABLE'])\n",
    "dyf.printSchema()"
   ]
  },
  {
   "cell_type": "code",
   "execution_count": 3,
   "id": "ec255c6f",
   "metadata": {},
   "outputs": [
    {
     "name": "stdout",
     "output_type": "stream",
     "text": [
      "{\"date\": \"2025-05-03\", \"hour\": \"20:00\", \"op01\": 215, \"opening_type_1\": \"ASB Nuisance\", \"op02\": 202, \"opening_type_2\": \"Rowdy Or Inconsiderate Behaviour\", \"op03\": 612, \"opening_type_3\": \"Mental Health\", \"cl01\": 215, \"close_type_1\": \"ASB Nuisance\", \"cl02\": \"   \", \"close_type_2\": \"\", \"cl03\": \"   \", \"close_type_3\": \"\", \"resolution_type_1\": \"Inform / Informed\", \"resolution_type_2\": \"\", \"ward\": \"EA06\", \"ward_code\": \"\", \"response_time\": 0, \"duplicate\": \"No\", \"asbcount\": 1, \"datetime\": 20258, \"ward_wardcode\": \"E05014058\", \"safer_neighborhood_team_name\": \"Chadwell Heath\", \"safer_neighborhood_team_code\": \"E05014058\", \"safer_neighborhood_team_borough_name\": \"Barking and Dagenham\", \"safer_neighborhood_team_borough_code\": \"KG\"}\n",
      "{\"date\": \"2025-06-12\", \"hour\": \"13:00\", \"op01\": 215, \"opening_type_1\": \"ASB Nuisance\", \"op02\": \"   \", \"opening_type_2\": \"\", \"op03\": \"   \", \"opening_type_3\": \"\", \"cl01\": 305, \"close_type_1\": \"Civil Disputes\", \"cl02\": \"   \", \"close_type_2\": \"\", \"cl03\": \"   \", \"close_type_3\": \"\", \"resolution_type_1\": \"Inform / Informed\", \"resolution_type_2\": \"\", \"ward\": \"SW61\", \"ward_code\": \"\", \"response_time\": 0, \"duplicate\": \"No\", \"asbcount\": 1, \"datetime\": 20258, \"ward_wardcode\": \"E05014012\", \"safer_neighborhood_team_name\": \"Falconbrook\", \"safer_neighborhood_team_code\": \"E05014012\", \"safer_neighborhood_team_borough_name\": \"Wandsworth\", \"safer_neighborhood_team_borough_code\": \"WW\"}\n",
      "{\"date\": \"2025-06-12\", \"hour\": \"13:00\", \"op01\": 214, \"opening_type_1\": \"ASB Personal\", \"op02\": 11, \"opening_type_2\": \"Drugs Offence\", \"op03\": \"   \", \"opening_type_3\": \"\", \"cl01\": 314, \"close_type_1\": \"Suspicious Circumstances\", \"cl02\": \"   \", \"close_type_2\": \"\", \"cl03\": \"   \", \"close_type_3\": \"\", \"resolution_type_1\": \"CRIMINT Entry\", \"resolution_type_2\": \"\", \"ward\": \"AS41\", \"ward_code\": \"\", \"response_time\": 489, \"duplicate\": \"No\", \"asbcount\": 1, \"datetime\": 20258, \"ward_wardcode\": \"E05011110\", \"safer_neighborhood_team_name\": \"Peckham\", \"safer_neighborhood_team_code\": \"E05011110\", \"safer_neighborhood_team_borough_name\": \"Southwark\", \"safer_neighborhood_team_borough_code\": \"MD\"}\n",
      "{\"date\": \"2025-05-13\", \"hour\": \"16:00\", \"op01\": 215, \"opening_type_1\": \"ASB Nuisance\", \"op02\": 201, \"opening_type_2\": \"Veh Nuisance / Inappropriate Use\", \"op03\": 610, \"opening_type_3\": \"Repeat Caller and / Or Victim\", \"cl01\": 215, \"close_type_1\": \"ASB Nuisance\", \"cl02\": \"   \", \"close_type_2\": \"\", \"cl03\": \"   \", \"close_type_3\": \"\", \"resolution_type_1\": \"Inform / Informed\", \"resolution_type_2\": \"\", \"ward\": \"WA51\", \"ward_code\": \"\", \"response_time\": 0, \"duplicate\": \"No\", \"asbcount\": 1, \"datetime\": 20258, \"ward_wardcode\": \"E05013611\", \"safer_neighborhood_team_name\": \"Chiswick Riverside\", \"safer_neighborhood_team_code\": \"E05013611\", \"safer_neighborhood_team_borough_name\": \"Hounslow\", \"safer_neighborhood_team_borough_code\": \"TX\"}\n",
      "{\"date\": \"2025-06-12\", \"hour\": \"13:00\", \"op01\": 215, \"opening_type_1\": \"ASB Nuisance\", \"op02\": 212, \"opening_type_2\": \"Begging / Vagrancy\", \"op03\": \"   \", \"opening_type_3\": \"\", \"cl01\": 215, \"close_type_1\": \"ASB Nuisance\", \"cl02\": \"   \", \"close_type_2\": \"\", \"cl03\": \"   \", \"close_type_3\": \"\", \"resolution_type_1\": \"Inform / Informed\", \"resolution_type_2\": \"\", \"ward\": \"CN19\", \"ward_code\": \"\", \"response_time\": 0, \"duplicate\": \"No\", \"asbcount\": 1, \"datetime\": 20258, \"ward_wardcode\": \"E05013669\", \"safer_neighborhood_team_name\": \"Camden Town Centre\", \"safer_neighborhood_team_code\": \"E0900000701T\", \"safer_neighborhood_team_borough_name\": \"Camden\", \"safer_neighborhood_team_borough_code\": \"EK\"}\n",
      "{\"date\": \"2025-05-13\", \"hour\": \"16:00\", \"op01\": 214, \"opening_type_1\": \"ASB Personal\", \"op02\": 202, \"opening_type_2\": \"Rowdy Or Inconsiderate Behaviour\", \"op03\": 614, \"opening_type_3\": \"Prejudice - Racial\", \"cl01\": 314, \"close_type_1\": \"Suspicious Circumstances\", \"cl02\": \"   \", \"close_type_2\": \"\", \"cl03\": \"   \", \"close_type_3\": \"\", \"resolution_type_1\": \"No Offences Disclosed\", \"resolution_type_2\": \"\", \"ward\": \"CN19\", \"ward_code\": \"\", \"response_time\": 0, \"duplicate\": \"No\", \"asbcount\": 1, \"datetime\": 20258, \"ward_wardcode\": \"E05013669\", \"safer_neighborhood_team_name\": \"Camden Town Centre\", \"safer_neighborhood_team_code\": \"E0900000701T\", \"safer_neighborhood_team_borough_name\": \"Camden\", \"safer_neighborhood_team_borough_code\": \"EK\"}\n",
      "{\"date\": \"2025-06-12\", \"hour\": \"16:00\", \"op01\": 215, \"opening_type_1\": \"ASB Nuisance\", \"op02\": 204, \"opening_type_2\": \"Rowdy / Nuisance Neighbours\", \"op03\": 202, \"opening_type_3\": \"Rowdy Or Inconsiderate Behaviour\", \"cl01\": 10, \"close_type_1\": \"Criminal Damage\", \"cl02\": \"   \", \"close_type_2\": \"\", \"cl03\": \"   \", \"close_type_3\": \"\", \"resolution_type_1\": \"CRIS Entry/Updated\", \"resolution_type_2\": \"\", \"ward\": \"NA36\", \"ward_code\": \"\", \"response_time\": 0, \"duplicate\": \"No\", \"asbcount\": 1, \"datetime\": 20258, \"ward_wardcode\": \"E05013595\", \"safer_neighborhood_team_name\": \"Noel Park\", \"safer_neighborhood_team_code\": \"E05013595N\", \"safer_neighborhood_team_borough_name\": \"Haringey\", \"safer_neighborhood_team_borough_code\": \"YR\"}\n",
      "{\"date\": \"2025-06-12\", \"hour\": \"16:00\", \"op01\": 214, \"opening_type_1\": \"ASB Personal\", \"op02\": 204, \"opening_type_2\": \"Rowdy / Nuisance Neighbours\", \"op03\": \"   \", \"opening_type_3\": \"\", \"cl01\": 215, \"close_type_1\": \"ASB Nuisance\", \"cl02\": \"   \", \"close_type_2\": \"\", \"cl03\": \"   \", \"close_type_3\": \"\", \"resolution_type_1\": \"Other Agencies Informed\", \"resolution_type_2\": \"Police Attendance Not Required\", \"ward\": \"SE19\", \"ward_code\": \"\", \"response_time\": 0, \"duplicate\": \"No\", \"asbcount\": 1, \"datetime\": 20258, \"ward_wardcode\": \"E05014073\", \"safer_neighborhood_team_name\": \"Blackheath Westcombe\", \"safer_neighborhood_team_code\": \"E05014073\", \"safer_neighborhood_team_borough_name\": \"Greenwich\", \"safer_neighborhood_team_borough_code\": \"RG\"}\n",
      "{\"date\": \"2025-05-03\", \"hour\": \"17:00\", \"op01\": 215, \"opening_type_1\": \"ASB Nuisance\", \"op02\": 202, \"opening_type_2\": \"Rowdy Or Inconsiderate Behaviour\", \"op03\": 600, \"opening_type_3\": \"Alcohol\", \"cl01\": 506, \"close_type_1\": \"Duplicate\", \"cl02\": \"   \", \"close_type_2\": \"\", \"cl03\": \"   \", \"close_type_3\": \"\", \"resolution_type_1\": \"Linked \", \"resolution_type_2\": \"\", \"ward\": \"NA36\", \"ward_code\": \"\", \"response_time\": 0, \"duplicate\": \"Ye\", \"asbcount\": 1, \"datetime\": 20258, \"ward_wardcode\": \"E05013595\", \"safer_neighborhood_team_name\": \"Noel Park\", \"safer_neighborhood_team_code\": \"E05013595N\", \"safer_neighborhood_team_borough_name\": \"Haringey\", \"safer_neighborhood_team_borough_code\": \"YR\"}\n",
      "{\"date\": \"2025-05-04\", \"hour\": \"21:00\", \"op01\": 215, \"opening_type_1\": \"ASB Nuisance\", \"op02\": 202, \"opening_type_2\": \"Rowdy Or Inconsiderate Behaviour\", \"op03\": \"   \", \"opening_type_3\": \"\", \"cl01\": 215, \"close_type_1\": \"ASB Nuisance\", \"cl02\": \"   \", \"close_type_2\": \"\", \"cl03\": \"   \", \"close_type_3\": \"\", \"resolution_type_1\": \"Inform / Informed\", \"resolution_type_2\": \"\", \"ward\": \"NE36\", \"ward_code\": \"\", \"response_time\": 0, \"duplicate\": \"No\", \"asbcount\": 1, \"datetime\": 20258, \"ward_wardcode\": \"E05013893\", \"safer_neighborhood_team_name\": \"Hoe Street\", \"safer_neighborhood_team_code\": \"E05013893\", \"safer_neighborhood_team_borough_name\": \"Waltham Forest\", \"safer_neighborhood_team_borough_code\": \"JC\"}\n",
      "{\"date\": \"2025-06-12\", \"hour\": \"15:00\", \"op01\": 215, \"opening_type_1\": \"ASB Nuisance\", \"op02\": 202, \"opening_type_2\": \"Rowdy Or Inconsiderate Behaviour\", \"op03\": 610, \"opening_type_3\": \"Repeat Caller and / Or Victim\", \"cl01\": 506, \"close_type_1\": \"Duplicate\", \"cl02\": \"   \", \"close_type_2\": \"\", \"cl03\": \"   \", \"close_type_3\": \"\", \"resolution_type_1\": \"Linked \", \"resolution_type_2\": \"\", \"ward\": \"AS08\", \"ward_code\": \"\", \"response_time\": 0, \"duplicate\": \"Ye\", \"asbcount\": 1, \"datetime\": 20258, \"ward_wardcode\": \"E05014102\", \"safer_neighborhood_team_name\": \"Clapham Town\", \"safer_neighborhood_team_code\": \"E05014102\", \"safer_neighborhood_team_borough_name\": \"Lambeth\", \"safer_neighborhood_team_borough_code\": \"LX\"}\n",
      "{\"date\": \"2025-05-02\", \"hour\": \"11:00\", \"op01\": 215, \"opening_type_1\": \"ASB Nuisance\", \"op02\": 202, \"opening_type_2\": \"Rowdy Or Inconsiderate Behaviour\", \"op03\": \"   \", \"opening_type_3\": \"\", \"cl01\": 215, \"close_type_1\": \"ASB Nuisance\", \"cl02\": \"   \", \"close_type_2\": \"\", \"cl03\": \"   \", \"close_type_3\": \"\", \"resolution_type_1\": \"Inform / Informed\", \"resolution_type_2\": \"\", \"ward\": \"AS33\", \"ward_code\": \"\", \"response_time\": 0, \"duplicate\": \"No\", \"asbcount\": 1, \"datetime\": 20258, \"ward_wardcode\": \"E05011102\", \"safer_neighborhood_team_name\": \"Faraday\", \"safer_neighborhood_team_code\": \"E05011102\", \"safer_neighborhood_team_borough_name\": \"Southwark\", \"safer_neighborhood_team_borough_code\": \"MD\"}\n",
      "{\"date\": \"2025-05-04\", \"hour\": \"21:00\", \"op01\": 215, \"opening_type_1\": \"ASB Nuisance\", \"op02\": 202, \"opening_type_2\": \"Rowdy Or Inconsiderate Behaviour\", \"op03\": 210, \"opening_type_3\": \"Prostitution Related Activity\", \"cl01\": 507, \"close_type_1\": \"Contact Record \", \"cl02\": \"   \", \"close_type_2\": \"\", \"cl03\": \"   \", \"close_type_3\": \"\", \"resolution_type_1\": \"Inform / Informed\", \"resolution_type_2\": \"\", \"ward\": \"NA23\", \"ward_code\": \"\", \"response_time\": 0, \"duplicate\": \"No\", \"asbcount\": 1, \"datetime\": 20258, \"ward_wardcode\": \"E05013694\", \"safer_neighborhood_team_name\": \"Upper Edmonton\", \"safer_neighborhood_team_code\": \"E05013694\", \"safer_neighborhood_team_borough_name\": \"Enfield\", \"safer_neighborhood_team_borough_code\": \"YE\"}\n",
      "{\"date\": \"2025-05-13\", \"hour\": \"16:00\", \"op01\": 215, \"opening_type_1\": \"ASB Nuisance\", \"op02\": 201, \"opening_type_2\": \"Veh Nuisance / Inappropriate Use\", \"op03\": \"   \", \"opening_type_3\": \"\", \"cl01\": 215, \"close_type_1\": \"ASB Nuisance\", \"cl02\": \"   \", \"close_type_2\": \"\", \"cl03\": \"   \", \"close_type_3\": \"\", \"resolution_type_1\": \"Police Attendance Not Required\", \"resolution_type_2\": \"\", \"ward\": \"NA32\", \"ward_code\": \"\", \"response_time\": 0, \"duplicate\": \"No\", \"asbcount\": 1, \"datetime\": 20258, \"ward_wardcode\": \"E05013591\", \"safer_neighborhood_team_name\": \"Hermitage & Gardens\", \"safer_neighborhood_team_code\": \"E05013591\", \"safer_neighborhood_team_borough_name\": \"Haringey\", \"safer_neighborhood_team_borough_code\": \"YR\"}\n",
      "{\"date\": \"2025-05-13\", \"hour\": \"16:00\", \"op01\": 215, \"opening_type_1\": \"ASB Nuisance\", \"op02\": 202, \"opening_type_2\": \"Rowdy Or Inconsiderate Behaviour\", \"op03\": \"   \", \"opening_type_3\": \"\", \"cl01\": 215, \"close_type_1\": \"ASB Nuisance\", \"cl02\": \"   \", \"close_type_2\": \"\", \"cl03\": \"   \", \"close_type_3\": \"\", \"resolution_type_1\": \"Inform / Informed\", \"resolution_type_2\": \"\", \"ward\": \"SE07\", \"ward_code\": \"\", \"response_time\": 0, \"duplicate\": \"No\", \"asbcount\": 1, \"datetime\": 20258, \"ward_wardcode\": \"E05011223\", \"safer_neighborhood_team_name\": \"Crook Log\", \"safer_neighborhood_team_code\": \"E05011223\", \"safer_neighborhood_team_borough_name\": \"Bexley\", \"safer_neighborhood_team_borough_code\": \"RY\"}\n",
      "{\"date\": \"2025-05-13\", \"hour\": \"16:00\", \"op01\": 215, \"opening_type_1\": \"ASB Nuisance\", \"op02\": 204, \"opening_type_2\": \"Rowdy / Nuisance Neighbours\", \"op03\": 610, \"opening_type_3\": \"Repeat Caller and / Or Victim\", \"cl01\": 215, \"close_type_1\": \"ASB Nuisance\", \"cl02\": \"   \", \"close_type_2\": \"\", \"cl03\": \"   \", \"close_type_3\": \"\", \"resolution_type_1\": \"Advice Given\", \"resolution_type_2\": \"\", \"ward\": \"AW13\", \"ward_code\": \"\", \"response_time\": 0, \"duplicate\": \"No\", \"asbcount\": 1, \"datetime\": 20258, \"ward_wardcode\": \"E05013745\", \"safer_neighborhood_team_name\": \"Parsons Green & Sandford\", \"safer_neighborhood_team_code\": \"E05013745\", \"safer_neighborhood_team_borough_name\": \"Hammersmith and Fulham\", \"safer_neighborhood_team_borough_code\": \"FH\"}\n",
      "{\"date\": \"2025-05-13\", \"hour\": \"16:00\", \"op01\": 215, \"opening_type_1\": \"ASB Nuisance\", \"op02\": 11, \"opening_type_2\": \"Drugs Offence\", \"op03\": 205, \"opening_type_3\": \"Littering / Drugs Paraphernalia\", \"cl01\": 215, \"close_type_1\": \"ASB Nuisance\", \"cl02\": \"   \", \"close_type_2\": \"\", \"cl03\": \"   \", \"close_type_3\": \"\", \"resolution_type_1\": \"No Trace\", \"resolution_type_2\": \"\", \"ward\": \"SE41\", \"ward_code\": \"\", \"response_time\": 2174, \"duplicate\": \"No\", \"asbcount\": 1, \"datetime\": 20258, \"ward_wardcode\": \"E05013714\", \"safer_neighborhood_team_name\": \"Bellingham\", \"safer_neighborhood_team_code\": \"E05013714\", \"safer_neighborhood_team_borough_name\": \"Lewisham\", \"safer_neighborhood_team_borough_code\": \"PL\"}\n",
      "{\"date\": \"2025-05-13\", \"hour\": \"16:00\", \"op01\": 215, \"opening_type_1\": \"ASB Nuisance\", \"op02\": 202, \"opening_type_2\": \"Rowdy Or Inconsiderate Behaviour\", \"op03\": 601, \"opening_type_3\": \"Drug Related\", \"cl01\": 215, \"close_type_1\": \"ASB Nuisance\", \"cl02\": \"   \", \"close_type_2\": \"\", \"cl03\": \"   \", \"close_type_3\": \"\", \"resolution_type_1\": \"Inform / Informed\", \"resolution_type_2\": \"\", \"ward\": \"NW58\", \"ward_code\": \"\", \"response_time\": 0, \"duplicate\": \"No\", \"asbcount\": 1, \"datetime\": 20258, \"ward_wardcode\": \"E05013553\", \"safer_neighborhood_team_name\": \"Marlborough\", \"safer_neighborhood_team_code\": \"E05013553\", \"safer_neighborhood_team_borough_name\": \"Harrow\", \"safer_neighborhood_team_borough_code\": \"QA\"}\n",
      "{\"date\": \"2025-07-11\", \"hour\": \"12:00\", \"op01\": 215, \"opening_type_1\": \"ASB Nuisance\", \"op02\": 202, \"opening_type_2\": \"Rowdy Or Inconsiderate Behaviour\", \"op03\": 601, \"opening_type_3\": \"Drug Related\", \"cl01\": 215, \"close_type_1\": \"ASB Nuisance\", \"cl02\": \"   \", \"close_type_2\": \"\", \"cl03\": \"   \", \"close_type_3\": \"\", \"resolution_type_1\": \"No Offences Disclosed\", \"resolution_type_2\": \"\", \"ward\": \"AS44\", \"ward_code\": \"\", \"response_time\": 1584, \"duplicate\": \"No\", \"asbcount\": 1, \"datetime\": 20258, \"ward_wardcode\": \"E05011113\", \"safer_neighborhood_team_name\": \"Rye Lane\", \"safer_neighborhood_team_code\": \"E05011113\", \"safer_neighborhood_team_borough_name\": \"Southwark\", \"safer_neighborhood_team_borough_code\": \"MD\"}\n",
      "{\"date\": \"2025-05-13\", \"hour\": \"16:00\", \"op01\": 215, \"opening_type_1\": \"ASB Nuisance\", \"op02\": 202, \"opening_type_2\": \"Rowdy Or Inconsiderate Behaviour\", \"op03\": \"   \", \"opening_type_3\": \"\", \"cl01\": 215, \"close_type_1\": \"ASB Nuisance\", \"cl02\": \"   \", \"close_type_2\": \"\", \"cl03\": \"   \", \"close_type_3\": \"\", \"resolution_type_1\": \"Police Attendance Not Required\", \"resolution_type_2\": \"\", \"ward\": \"AW41\", \"ward_code\": \"\", \"response_time\": 0, \"duplicate\": \"No\", \"asbcount\": 1, \"datetime\": 20258, \"ward_wardcode\": \"E05013793\", \"safer_neighborhood_team_name\": \"Bayswater\", \"safer_neighborhood_team_code\": \"E05013793\", \"safer_neighborhood_team_borough_name\": \"Westminster\", \"safer_neighborhood_team_borough_code\": \"CW\"}\n"
     ]
    }
   ],
   "source": [
    "dyf.show()"
   ]
  },
  {
   "cell_type": "markdown",
   "id": "8c9d99db",
   "metadata": {},
   "source": [
    "Example: Create a DynamicFrame from a table in the AWS Glue Data Catalog and display its schema¶"
   ]
  },
  {
   "cell_type": "code",
   "execution_count": 4,
   "id": "1cebe4df",
   "metadata": {},
   "outputs": [
    {
     "name": "stdout",
     "output_type": "stream",
     "text": [
      "root\n",
      "|-- date: string\n",
      "|-- hour: string\n",
      "|-- op01: long\n",
      "|-- opening_type_1: string\n",
      "|-- op02: long\n",
      "|-- opening_type_2: string\n",
      "|-- op03: long\n",
      "|-- opening_type_3: string\n",
      "|-- cl01: long\n",
      "|-- close_type_1: string\n",
      "|-- cl02: long\n",
      "|-- close_type_2: string\n",
      "|-- cl03: string\n",
      "|-- close_type_3: string\n",
      "|-- resolution_type_1: string\n",
      "|-- resolution_type_2: string\n",
      "|-- ward: string\n",
      "|-- ward_code: string\n",
      "|-- response_time: long\n",
      "|-- duplicate: string\n",
      "|-- asbcount: long\n",
      "|-- datetime: long\n",
      "|-- ward_wardcode: string\n",
      "|-- safer_neighborhood_team_name: string\n",
      "|-- safer_neighborhood_team_code: string\n",
      "|-- safer_neighborhood_team_borough_name: string\n",
      "|-- safer_neighborhood_team_borough_code: string\n",
      "\n"
     ]
    }
   ],
   "source": [
    "def resolve_schema(dyf, database, table):\n",
    "    \"\"\"\n",
    "    Resolves the schema of a DynamicFrame to match the catalog.\n",
    "\n",
    "    Args:\n",
    "        dyf (DynamicFrame): The DynamicFrame to resolve.\n",
    "\n",
    "    Returns:\n",
    "        DynamicFrame: The resolved DynamicFrame.\n",
    "    \"\"\"\n",
    "    resolved_dyf = ResolveChoice.apply(\n",
    "    frame=dyf,\n",
    "    choice=\"match_catalog\",\n",
    "    database=database,\n",
    "    table_name=table\n",
    "    )\n",
    "    return resolved_dyf\n",
    "dyf = resolve_schema(dyf, args['DATABASE'], args['TABLE'])\n",
    "dyf.printSchema()"
   ]
  },
  {
   "cell_type": "code",
   "execution_count": 5,
   "id": "cec50fb6",
   "metadata": {},
   "outputs": [
    {
     "name": "stdout",
     "output_type": "stream",
     "text": [
      "{\"date\": \"2025-05-03\", \"hour\": \"20:00\", \"op01\": 215, \"opening_type_1\": \"ASB Nuisance\", \"opening_type_2\": \"Rowdy Or Inconsiderate Behaviour\", \"opening_type_3\": \"Mental Health\", \"close_type_1\": \"ASB Nuisance\", \"close_type_2\": \"\", \"cl03\": \"   \", \"close_type_3\": \"\", \"resolution_type_1\": \"Inform / Informed\", \"resolution_type_2\": \"\", \"ward\": \"EA06\", \"ward_code\": \"\", \"response_time\": 0, \"duplicate\": \"No\", \"asbcount\": 1, \"datetime\": 20258, \"ward_wardcode\": \"E05014058\", \"safer_neighborhood_team_name\": \"Chadwell Heath\", \"safer_neighborhood_team_code\": \"E05014058\", \"safer_neighborhood_team_borough_name\": \"Barking and Dagenham\", \"safer_neighborhood_team_borough_code\": \"KG\", \"op02\": 202, \"op03\": 612, \"cl01\": 215}\n",
      "{\"date\": \"2025-06-12\", \"hour\": \"13:00\", \"op01\": 215, \"opening_type_1\": \"ASB Nuisance\", \"opening_type_2\": \"\", \"opening_type_3\": \"\", \"close_type_1\": \"Civil Disputes\", \"close_type_2\": \"\", \"cl03\": \"   \", \"close_type_3\": \"\", \"resolution_type_1\": \"Inform / Informed\", \"resolution_type_2\": \"\", \"ward\": \"SW61\", \"ward_code\": \"\", \"response_time\": 0, \"duplicate\": \"No\", \"asbcount\": 1, \"datetime\": 20258, \"ward_wardcode\": \"E05014012\", \"safer_neighborhood_team_name\": \"Falconbrook\", \"safer_neighborhood_team_code\": \"E05014012\", \"safer_neighborhood_team_borough_name\": \"Wandsworth\", \"safer_neighborhood_team_borough_code\": \"WW\", \"cl01\": 305}\n",
      "{\"date\": \"2025-06-12\", \"hour\": \"13:00\", \"op01\": 214, \"opening_type_1\": \"ASB Personal\", \"opening_type_2\": \"Drugs Offence\", \"opening_type_3\": \"\", \"close_type_1\": \"Suspicious Circumstances\", \"close_type_2\": \"\", \"cl03\": \"   \", \"close_type_3\": \"\", \"resolution_type_1\": \"CRIMINT Entry\", \"resolution_type_2\": \"\", \"ward\": \"AS41\", \"ward_code\": \"\", \"response_time\": 489, \"duplicate\": \"No\", \"asbcount\": 1, \"datetime\": 20258, \"ward_wardcode\": \"E05011110\", \"safer_neighborhood_team_name\": \"Peckham\", \"safer_neighborhood_team_code\": \"E05011110\", \"safer_neighborhood_team_borough_name\": \"Southwark\", \"safer_neighborhood_team_borough_code\": \"MD\", \"op02\": 11, \"cl01\": 314}\n",
      "{\"date\": \"2025-05-13\", \"hour\": \"16:00\", \"op01\": 215, \"opening_type_1\": \"ASB Nuisance\", \"opening_type_2\": \"Veh Nuisance / Inappropriate Use\", \"opening_type_3\": \"Repeat Caller and / Or Victim\", \"close_type_1\": \"ASB Nuisance\", \"close_type_2\": \"\", \"cl03\": \"   \", \"close_type_3\": \"\", \"resolution_type_1\": \"Inform / Informed\", \"resolution_type_2\": \"\", \"ward\": \"WA51\", \"ward_code\": \"\", \"response_time\": 0, \"duplicate\": \"No\", \"asbcount\": 1, \"datetime\": 20258, \"ward_wardcode\": \"E05013611\", \"safer_neighborhood_team_name\": \"Chiswick Riverside\", \"safer_neighborhood_team_code\": \"E05013611\", \"safer_neighborhood_team_borough_name\": \"Hounslow\", \"safer_neighborhood_team_borough_code\": \"TX\", \"op02\": 201, \"op03\": 610, \"cl01\": 215}\n",
      "{\"date\": \"2025-06-12\", \"hour\": \"13:00\", \"op01\": 215, \"opening_type_1\": \"ASB Nuisance\", \"opening_type_2\": \"Begging / Vagrancy\", \"opening_type_3\": \"\", \"close_type_1\": \"ASB Nuisance\", \"close_type_2\": \"\", \"cl03\": \"   \", \"close_type_3\": \"\", \"resolution_type_1\": \"Inform / Informed\", \"resolution_type_2\": \"\", \"ward\": \"CN19\", \"ward_code\": \"\", \"response_time\": 0, \"duplicate\": \"No\", \"asbcount\": 1, \"datetime\": 20258, \"ward_wardcode\": \"E05013669\", \"safer_neighborhood_team_name\": \"Camden Town Centre\", \"safer_neighborhood_team_code\": \"E0900000701T\", \"safer_neighborhood_team_borough_name\": \"Camden\", \"safer_neighborhood_team_borough_code\": \"EK\", \"op02\": 212, \"cl01\": 215}\n",
      "{\"date\": \"2025-05-13\", \"hour\": \"16:00\", \"op01\": 214, \"opening_type_1\": \"ASB Personal\", \"opening_type_2\": \"Rowdy Or Inconsiderate Behaviour\", \"opening_type_3\": \"Prejudice - Racial\", \"close_type_1\": \"Suspicious Circumstances\", \"close_type_2\": \"\", \"cl03\": \"   \", \"close_type_3\": \"\", \"resolution_type_1\": \"No Offences Disclosed\", \"resolution_type_2\": \"\", \"ward\": \"CN19\", \"ward_code\": \"\", \"response_time\": 0, \"duplicate\": \"No\", \"asbcount\": 1, \"datetime\": 20258, \"ward_wardcode\": \"E05013669\", \"safer_neighborhood_team_name\": \"Camden Town Centre\", \"safer_neighborhood_team_code\": \"E0900000701T\", \"safer_neighborhood_team_borough_name\": \"Camden\", \"safer_neighborhood_team_borough_code\": \"EK\", \"op02\": 202, \"op03\": 614, \"cl01\": 314}\n",
      "{\"date\": \"2025-06-12\", \"hour\": \"16:00\", \"op01\": 215, \"opening_type_1\": \"ASB Nuisance\", \"opening_type_2\": \"Rowdy / Nuisance Neighbours\", \"opening_type_3\": \"Rowdy Or Inconsiderate Behaviour\", \"close_type_1\": \"Criminal Damage\", \"close_type_2\": \"\", \"cl03\": \"   \", \"close_type_3\": \"\", \"resolution_type_1\": \"CRIS Entry/Updated\", \"resolution_type_2\": \"\", \"ward\": \"NA36\", \"ward_code\": \"\", \"response_time\": 0, \"duplicate\": \"No\", \"asbcount\": 1, \"datetime\": 20258, \"ward_wardcode\": \"E05013595\", \"safer_neighborhood_team_name\": \"Noel Park\", \"safer_neighborhood_team_code\": \"E05013595N\", \"safer_neighborhood_team_borough_name\": \"Haringey\", \"safer_neighborhood_team_borough_code\": \"YR\", \"op02\": 204, \"op03\": 202, \"cl01\": 10}\n",
      "{\"date\": \"2025-06-12\", \"hour\": \"16:00\", \"op01\": 214, \"opening_type_1\": \"ASB Personal\", \"opening_type_2\": \"Rowdy / Nuisance Neighbours\", \"opening_type_3\": \"\", \"close_type_1\": \"ASB Nuisance\", \"close_type_2\": \"\", \"cl03\": \"   \", \"close_type_3\": \"\", \"resolution_type_1\": \"Other Agencies Informed\", \"resolution_type_2\": \"Police Attendance Not Required\", \"ward\": \"SE19\", \"ward_code\": \"\", \"response_time\": 0, \"duplicate\": \"No\", \"asbcount\": 1, \"datetime\": 20258, \"ward_wardcode\": \"E05014073\", \"safer_neighborhood_team_name\": \"Blackheath Westcombe\", \"safer_neighborhood_team_code\": \"E05014073\", \"safer_neighborhood_team_borough_name\": \"Greenwich\", \"safer_neighborhood_team_borough_code\": \"RG\", \"op02\": 204, \"cl01\": 215}\n",
      "{\"date\": \"2025-05-03\", \"hour\": \"17:00\", \"op01\": 215, \"opening_type_1\": \"ASB Nuisance\", \"opening_type_2\": \"Rowdy Or Inconsiderate Behaviour\", \"opening_type_3\": \"Alcohol\", \"close_type_1\": \"Duplicate\", \"close_type_2\": \"\", \"cl03\": \"   \", \"close_type_3\": \"\", \"resolution_type_1\": \"Linked \", \"resolution_type_2\": \"\", \"ward\": \"NA36\", \"ward_code\": \"\", \"response_time\": 0, \"duplicate\": \"Ye\", \"asbcount\": 1, \"datetime\": 20258, \"ward_wardcode\": \"E05013595\", \"safer_neighborhood_team_name\": \"Noel Park\", \"safer_neighborhood_team_code\": \"E05013595N\", \"safer_neighborhood_team_borough_name\": \"Haringey\", \"safer_neighborhood_team_borough_code\": \"YR\", \"op02\": 202, \"op03\": 600, \"cl01\": 506}\n",
      "{\"date\": \"2025-05-04\", \"hour\": \"21:00\", \"op01\": 215, \"opening_type_1\": \"ASB Nuisance\", \"opening_type_2\": \"Rowdy Or Inconsiderate Behaviour\", \"opening_type_3\": \"\", \"close_type_1\": \"ASB Nuisance\", \"close_type_2\": \"\", \"cl03\": \"   \", \"close_type_3\": \"\", \"resolution_type_1\": \"Inform / Informed\", \"resolution_type_2\": \"\", \"ward\": \"NE36\", \"ward_code\": \"\", \"response_time\": 0, \"duplicate\": \"No\", \"asbcount\": 1, \"datetime\": 20258, \"ward_wardcode\": \"E05013893\", \"safer_neighborhood_team_name\": \"Hoe Street\", \"safer_neighborhood_team_code\": \"E05013893\", \"safer_neighborhood_team_borough_name\": \"Waltham Forest\", \"safer_neighborhood_team_borough_code\": \"JC\", \"op02\": 202, \"cl01\": 215}\n",
      "{\"date\": \"2025-06-12\", \"hour\": \"15:00\", \"op01\": 215, \"opening_type_1\": \"ASB Nuisance\", \"opening_type_2\": \"Rowdy Or Inconsiderate Behaviour\", \"opening_type_3\": \"Repeat Caller and / Or Victim\", \"close_type_1\": \"Duplicate\", \"close_type_2\": \"\", \"cl03\": \"   \", \"close_type_3\": \"\", \"resolution_type_1\": \"Linked \", \"resolution_type_2\": \"\", \"ward\": \"AS08\", \"ward_code\": \"\", \"response_time\": 0, \"duplicate\": \"Ye\", \"asbcount\": 1, \"datetime\": 20258, \"ward_wardcode\": \"E05014102\", \"safer_neighborhood_team_name\": \"Clapham Town\", \"safer_neighborhood_team_code\": \"E05014102\", \"safer_neighborhood_team_borough_name\": \"Lambeth\", \"safer_neighborhood_team_borough_code\": \"LX\", \"op02\": 202, \"op03\": 610, \"cl01\": 506}\n",
      "{\"date\": \"2025-05-02\", \"hour\": \"11:00\", \"op01\": 215, \"opening_type_1\": \"ASB Nuisance\", \"opening_type_2\": \"Rowdy Or Inconsiderate Behaviour\", \"opening_type_3\": \"\", \"close_type_1\": \"ASB Nuisance\", \"close_type_2\": \"\", \"cl03\": \"   \", \"close_type_3\": \"\", \"resolution_type_1\": \"Inform / Informed\", \"resolution_type_2\": \"\", \"ward\": \"AS33\", \"ward_code\": \"\", \"response_time\": 0, \"duplicate\": \"No\", \"asbcount\": 1, \"datetime\": 20258, \"ward_wardcode\": \"E05011102\", \"safer_neighborhood_team_name\": \"Faraday\", \"safer_neighborhood_team_code\": \"E05011102\", \"safer_neighborhood_team_borough_name\": \"Southwark\", \"safer_neighborhood_team_borough_code\": \"MD\", \"op02\": 202, \"cl01\": 215}\n",
      "{\"date\": \"2025-05-04\", \"hour\": \"21:00\", \"op01\": 215, \"opening_type_1\": \"ASB Nuisance\", \"opening_type_2\": \"Rowdy Or Inconsiderate Behaviour\", \"opening_type_3\": \"Prostitution Related Activity\", \"close_type_1\": \"Contact Record \", \"close_type_2\": \"\", \"cl03\": \"   \", \"close_type_3\": \"\", \"resolution_type_1\": \"Inform / Informed\", \"resolution_type_2\": \"\", \"ward\": \"NA23\", \"ward_code\": \"\", \"response_time\": 0, \"duplicate\": \"No\", \"asbcount\": 1, \"datetime\": 20258, \"ward_wardcode\": \"E05013694\", \"safer_neighborhood_team_name\": \"Upper Edmonton\", \"safer_neighborhood_team_code\": \"E05013694\", \"safer_neighborhood_team_borough_name\": \"Enfield\", \"safer_neighborhood_team_borough_code\": \"YE\", \"op02\": 202, \"op03\": 210, \"cl01\": 507}\n",
      "{\"date\": \"2025-05-13\", \"hour\": \"16:00\", \"op01\": 215, \"opening_type_1\": \"ASB Nuisance\", \"opening_type_2\": \"Veh Nuisance / Inappropriate Use\", \"opening_type_3\": \"\", \"close_type_1\": \"ASB Nuisance\", \"close_type_2\": \"\", \"cl03\": \"   \", \"close_type_3\": \"\", \"resolution_type_1\": \"Police Attendance Not Required\", \"resolution_type_2\": \"\", \"ward\": \"NA32\", \"ward_code\": \"\", \"response_time\": 0, \"duplicate\": \"No\", \"asbcount\": 1, \"datetime\": 20258, \"ward_wardcode\": \"E05013591\", \"safer_neighborhood_team_name\": \"Hermitage & Gardens\", \"safer_neighborhood_team_code\": \"E05013591\", \"safer_neighborhood_team_borough_name\": \"Haringey\", \"safer_neighborhood_team_borough_code\": \"YR\", \"op02\": 201, \"cl01\": 215}\n",
      "{\"date\": \"2025-05-13\", \"hour\": \"16:00\", \"op01\": 215, \"opening_type_1\": \"ASB Nuisance\", \"opening_type_2\": \"Rowdy Or Inconsiderate Behaviour\", \"opening_type_3\": \"\", \"close_type_1\": \"ASB Nuisance\", \"close_type_2\": \"\", \"cl03\": \"   \", \"close_type_3\": \"\", \"resolution_type_1\": \"Inform / Informed\", \"resolution_type_2\": \"\", \"ward\": \"SE07\", \"ward_code\": \"\", \"response_time\": 0, \"duplicate\": \"No\", \"asbcount\": 1, \"datetime\": 20258, \"ward_wardcode\": \"E05011223\", \"safer_neighborhood_team_name\": \"Crook Log\", \"safer_neighborhood_team_code\": \"E05011223\", \"safer_neighborhood_team_borough_name\": \"Bexley\", \"safer_neighborhood_team_borough_code\": \"RY\", \"op02\": 202, \"cl01\": 215}\n",
      "{\"date\": \"2025-05-13\", \"hour\": \"16:00\", \"op01\": 215, \"opening_type_1\": \"ASB Nuisance\", \"opening_type_2\": \"Rowdy / Nuisance Neighbours\", \"opening_type_3\": \"Repeat Caller and / Or Victim\", \"close_type_1\": \"ASB Nuisance\", \"close_type_2\": \"\", \"cl03\": \"   \", \"close_type_3\": \"\", \"resolution_type_1\": \"Advice Given\", \"resolution_type_2\": \"\", \"ward\": \"AW13\", \"ward_code\": \"\", \"response_time\": 0, \"duplicate\": \"No\", \"asbcount\": 1, \"datetime\": 20258, \"ward_wardcode\": \"E05013745\", \"safer_neighborhood_team_name\": \"Parsons Green & Sandford\", \"safer_neighborhood_team_code\": \"E05013745\", \"safer_neighborhood_team_borough_name\": \"Hammersmith and Fulham\", \"safer_neighborhood_team_borough_code\": \"FH\", \"op02\": 204, \"op03\": 610, \"cl01\": 215}\n",
      "{\"date\": \"2025-05-13\", \"hour\": \"16:00\", \"op01\": 215, \"opening_type_1\": \"ASB Nuisance\", \"opening_type_2\": \"Drugs Offence\", \"opening_type_3\": \"Littering / Drugs Paraphernalia\", \"close_type_1\": \"ASB Nuisance\", \"close_type_2\": \"\", \"cl03\": \"   \", \"close_type_3\": \"\", \"resolution_type_1\": \"No Trace\", \"resolution_type_2\": \"\", \"ward\": \"SE41\", \"ward_code\": \"\", \"response_time\": 2174, \"duplicate\": \"No\", \"asbcount\": 1, \"datetime\": 20258, \"ward_wardcode\": \"E05013714\", \"safer_neighborhood_team_name\": \"Bellingham\", \"safer_neighborhood_team_code\": \"E05013714\", \"safer_neighborhood_team_borough_name\": \"Lewisham\", \"safer_neighborhood_team_borough_code\": \"PL\", \"op02\": 11, \"op03\": 205, \"cl01\": 215}\n",
      "{\"date\": \"2025-05-13\", \"hour\": \"16:00\", \"op01\": 215, \"opening_type_1\": \"ASB Nuisance\", \"opening_type_2\": \"Rowdy Or Inconsiderate Behaviour\", \"opening_type_3\": \"Drug Related\", \"close_type_1\": \"ASB Nuisance\", \"close_type_2\": \"\", \"cl03\": \"   \", \"close_type_3\": \"\", \"resolution_type_1\": \"Inform / Informed\", \"resolution_type_2\": \"\", \"ward\": \"NW58\", \"ward_code\": \"\", \"response_time\": 0, \"duplicate\": \"No\", \"asbcount\": 1, \"datetime\": 20258, \"ward_wardcode\": \"E05013553\", \"safer_neighborhood_team_name\": \"Marlborough\", \"safer_neighborhood_team_code\": \"E05013553\", \"safer_neighborhood_team_borough_name\": \"Harrow\", \"safer_neighborhood_team_borough_code\": \"QA\", \"op02\": 202, \"op03\": 601, \"cl01\": 215}\n",
      "{\"date\": \"2025-07-11\", \"hour\": \"12:00\", \"op01\": 215, \"opening_type_1\": \"ASB Nuisance\", \"opening_type_2\": \"Rowdy Or Inconsiderate Behaviour\", \"opening_type_3\": \"Drug Related\", \"close_type_1\": \"ASB Nuisance\", \"close_type_2\": \"\", \"cl03\": \"   \", \"close_type_3\": \"\", \"resolution_type_1\": \"No Offences Disclosed\", \"resolution_type_2\": \"\", \"ward\": \"AS44\", \"ward_code\": \"\", \"response_time\": 1584, \"duplicate\": \"No\", \"asbcount\": 1, \"datetime\": 20258, \"ward_wardcode\": \"E05011113\", \"safer_neighborhood_team_name\": \"Rye Lane\", \"safer_neighborhood_team_code\": \"E05011113\", \"safer_neighborhood_team_borough_name\": \"Southwark\", \"safer_neighborhood_team_borough_code\": \"MD\", \"op02\": 202, \"op03\": 601, \"cl01\": 215}\n",
      "{\"date\": \"2025-05-13\", \"hour\": \"16:00\", \"op01\": 215, \"opening_type_1\": \"ASB Nuisance\", \"opening_type_2\": \"Rowdy Or Inconsiderate Behaviour\", \"opening_type_3\": \"\", \"close_type_1\": \"ASB Nuisance\", \"close_type_2\": \"\", \"cl03\": \"   \", \"close_type_3\": \"\", \"resolution_type_1\": \"Police Attendance Not Required\", \"resolution_type_2\": \"\", \"ward\": \"AW41\", \"ward_code\": \"\", \"response_time\": 0, \"duplicate\": \"No\", \"asbcount\": 1, \"datetime\": 20258, \"ward_wardcode\": \"E05013793\", \"safer_neighborhood_team_name\": \"Bayswater\", \"safer_neighborhood_team_code\": \"E05013793\", \"safer_neighborhood_team_borough_name\": \"Westminster\", \"safer_neighborhood_team_borough_code\": \"CW\", \"op02\": 202, \"cl01\": 215}\n"
     ]
    }
   ],
   "source": [
    "dyf.show()"
   ]
  },
  {
   "cell_type": "markdown",
   "id": "c157519b",
   "metadata": {},
   "source": [
    "Example: Convert the DynamicFrame to a Spark DataFrame and display a sample of the data"
   ]
  },
  {
   "cell_type": "code",
   "execution_count": 6,
   "id": "c7320d04",
   "metadata": {},
   "outputs": [
    {
     "name": "stderr",
     "output_type": "stream",
     "text": [
      "/usr/local/lib/python3.11/site-packages/pyspark/sql/dataframe.py:147: UserWarning: DataFrame constructor is internal. Do not directly use it.\n",
      "  warnings.warn(\"DataFrame constructor is internal. Do not directly use it.\")\n",
      "25/08/10 19:42:01 WARN SparkStringUtils: Truncated the string representation of a plan since it was too large. This behavior can be adjusted by setting 'spark.sql.debug.maxToStringFields'.\n"
     ]
    },
    {
     "name": "stdout",
     "output_type": "stream",
     "text": [
      "+----------+-----+----+--------------+----+--------------------+----+--------------------+----+--------------------+----+------------+----+------------+--------------------+--------------------+----+---------+-------------+---------+--------+--------+-------------+----------------------------+----------------------------+------------------------------------+------------------------------------+\n",
      "|      date| hour|op01|opening_type_1|op02|      opening_type_2|op03|      opening_type_3|cl01|        close_type_1|cl02|close_type_2|cl03|close_type_3|   resolution_type_1|   resolution_type_2|ward|ward_code|response_time|duplicate|asbcount|datetime|ward_wardcode|safer_neighborhood_team_name|safer_neighborhood_team_code|safer_neighborhood_team_borough_name|safer_neighborhood_team_borough_code|\n",
      "+----------+-----+----+--------------+----+--------------------+----+--------------------+----+--------------------+----+------------+----+------------+--------------------+--------------------+----+---------+-------------+---------+--------+--------+-------------+----------------------------+----------------------------+------------------------------------+------------------------------------+\n",
      "|2025-05-03|20:00| 215|  ASB Nuisance| 202|Rowdy Or Inconsid...| 612|       Mental Health| 215|        ASB Nuisance|NULL|            |    |            |   Inform / Informed|                    |EA06|         |            0|       No|       1|   20258|    E05014058|              Chadwell Heath|                   E05014058|                Barking and Dagenham|                                  KG|\n",
      "|2025-06-12|13:00| 215|  ASB Nuisance|NULL|                    |NULL|                    | 305|      Civil Disputes|NULL|            |    |            |   Inform / Informed|                    |SW61|         |            0|       No|       1|   20258|    E05014012|                 Falconbrook|                   E05014012|                          Wandsworth|                                  WW|\n",
      "|2025-06-12|13:00| 214|  ASB Personal|  11|       Drugs Offence|NULL|                    | 314|Suspicious Circum...|NULL|            |    |            |       CRIMINT Entry|                    |AS41|         |          489|       No|       1|   20258|    E05011110|                     Peckham|                   E05011110|                           Southwark|                                  MD|\n",
      "|2025-05-13|16:00| 215|  ASB Nuisance| 201|Veh Nuisance / In...| 610|Repeat Caller and...| 215|        ASB Nuisance|NULL|            |    |            |   Inform / Informed|                    |WA51|         |            0|       No|       1|   20258|    E05013611|          Chiswick Riverside|                   E05013611|                            Hounslow|                                  TX|\n",
      "|2025-06-12|13:00| 215|  ASB Nuisance| 212|  Begging / Vagrancy|NULL|                    | 215|        ASB Nuisance|NULL|            |    |            |   Inform / Informed|                    |CN19|         |            0|       No|       1|   20258|    E05013669|          Camden Town Centre|                E0900000701T|                              Camden|                                  EK|\n",
      "|2025-05-13|16:00| 214|  ASB Personal| 202|Rowdy Or Inconsid...| 614|  Prejudice - Racial| 314|Suspicious Circum...|NULL|            |    |            |No Offences Discl...|                    |CN19|         |            0|       No|       1|   20258|    E05013669|          Camden Town Centre|                E0900000701T|                              Camden|                                  EK|\n",
      "|2025-06-12|16:00| 215|  ASB Nuisance| 204|Rowdy / Nuisance ...| 202|Rowdy Or Inconsid...|  10|     Criminal Damage|NULL|            |    |            |  CRIS Entry/Updated|                    |NA36|         |            0|       No|       1|   20258|    E05013595|                   Noel Park|                  E05013595N|                            Haringey|                                  YR|\n",
      "|2025-06-12|16:00| 214|  ASB Personal| 204|Rowdy / Nuisance ...|NULL|                    | 215|        ASB Nuisance|NULL|            |    |            |Other Agencies In...|Police Attendance...|SE19|         |            0|       No|       1|   20258|    E05014073|        Blackheath Westcombe|                   E05014073|                           Greenwich|                                  RG|\n",
      "|2025-05-03|17:00| 215|  ASB Nuisance| 202|Rowdy Or Inconsid...| 600|             Alcohol| 506|           Duplicate|NULL|            |    |            |             Linked |                    |NA36|         |            0|       Ye|       1|   20258|    E05013595|                   Noel Park|                  E05013595N|                            Haringey|                                  YR|\n",
      "|2025-05-04|21:00| 215|  ASB Nuisance| 202|Rowdy Or Inconsid...|NULL|                    | 215|        ASB Nuisance|NULL|            |    |            |   Inform / Informed|                    |NE36|         |            0|       No|       1|   20258|    E05013893|                  Hoe Street|                   E05013893|                      Waltham Forest|                                  JC|\n",
      "|2025-06-12|15:00| 215|  ASB Nuisance| 202|Rowdy Or Inconsid...| 610|Repeat Caller and...| 506|           Duplicate|NULL|            |    |            |             Linked |                    |AS08|         |            0|       Ye|       1|   20258|    E05014102|                Clapham Town|                   E05014102|                             Lambeth|                                  LX|\n",
      "|2025-05-02|11:00| 215|  ASB Nuisance| 202|Rowdy Or Inconsid...|NULL|                    | 215|        ASB Nuisance|NULL|            |    |            |   Inform / Informed|                    |AS33|         |            0|       No|       1|   20258|    E05011102|                     Faraday|                   E05011102|                           Southwark|                                  MD|\n",
      "|2025-05-04|21:00| 215|  ASB Nuisance| 202|Rowdy Or Inconsid...| 210|Prostitution Rela...| 507|     Contact Record |NULL|            |    |            |   Inform / Informed|                    |NA23|         |            0|       No|       1|   20258|    E05013694|              Upper Edmonton|                   E05013694|                             Enfield|                                  YE|\n",
      "|2025-05-13|16:00| 215|  ASB Nuisance| 201|Veh Nuisance / In...|NULL|                    | 215|        ASB Nuisance|NULL|            |    |            |Police Attendance...|                    |NA32|         |            0|       No|       1|   20258|    E05013591|         Hermitage & Gardens|                   E05013591|                            Haringey|                                  YR|\n",
      "|2025-05-13|16:00| 215|  ASB Nuisance| 202|Rowdy Or Inconsid...|NULL|                    | 215|        ASB Nuisance|NULL|            |    |            |   Inform / Informed|                    |SE07|         |            0|       No|       1|   20258|    E05011223|                   Crook Log|                   E05011223|                              Bexley|                                  RY|\n",
      "|2025-05-13|16:00| 215|  ASB Nuisance| 204|Rowdy / Nuisance ...| 610|Repeat Caller and...| 215|        ASB Nuisance|NULL|            |    |            |        Advice Given|                    |AW13|         |            0|       No|       1|   20258|    E05013745|        Parsons Green & S...|                   E05013745|                Hammersmith and F...|                                  FH|\n",
      "|2025-05-13|16:00| 215|  ASB Nuisance|  11|       Drugs Offence| 205|Littering / Drugs...| 215|        ASB Nuisance|NULL|            |    |            |            No Trace|                    |SE41|         |         2174|       No|       1|   20258|    E05013714|                  Bellingham|                   E05013714|                            Lewisham|                                  PL|\n",
      "|2025-05-13|16:00| 215|  ASB Nuisance| 202|Rowdy Or Inconsid...| 601|        Drug Related| 215|        ASB Nuisance|NULL|            |    |            |   Inform / Informed|                    |NW58|         |            0|       No|       1|   20258|    E05013553|                 Marlborough|                   E05013553|                              Harrow|                                  QA|\n",
      "|2025-07-11|12:00| 215|  ASB Nuisance| 202|Rowdy Or Inconsid...| 601|        Drug Related| 215|        ASB Nuisance|NULL|            |    |            |No Offences Discl...|                    |AS44|         |         1584|       No|       1|   20258|    E05011113|                    Rye Lane|                   E05011113|                           Southwark|                                  MD|\n",
      "|2025-05-13|16:00| 215|  ASB Nuisance| 202|Rowdy Or Inconsid...|NULL|                    | 215|        ASB Nuisance|NULL|            |    |            |Police Attendance...|                    |AW41|         |            0|       No|       1|   20258|    E05013793|                   Bayswater|                   E05013793|                         Westminster|                                  CW|\n",
      "+----------+-----+----+--------------+----+--------------------+----+--------------------+----+--------------------+----+------------+----+------------+--------------------+--------------------+----+---------+-------------+---------+--------+--------+-------------+----------------------------+----------------------------+------------------------------------+------------------------------------+\n",
      "only showing top 20 rows\n",
      "\n"
     ]
    }
   ],
   "source": [
    "df = dyf.toDF()\n",
    "df.show()"
   ]
  },
  {
   "cell_type": "code",
   "execution_count": 7,
   "id": "6b48cca3",
   "metadata": {},
   "outputs": [
    {
     "name": "stdout",
     "output_type": "stream",
     "text": [
      "+----------+-----+--------------+--------------------------------+--------------------------------+------------------------+------------+-----------------------+------------------------------+----+---------+-------------+---------+--------+--------+-------------+----------------------------+----------------------------+------------------------------------+------------------------------------+\n",
      "|date      |hour |opening_type_1|opening_type_2                  |opening_type_3                  |close_type_1            |close_type_2|resolution_type_1      |resolution_type_2             |ward|ward_code|response_time|duplicate|asbcount|datetime|ward_wardcode|safer_neighborhood_team_name|safer_neighborhood_team_code|safer_neighborhood_team_borough_name|safer_neighborhood_team_borough_code|\n",
      "+----------+-----+--------------+--------------------------------+--------------------------------+------------------------+------------+-----------------------+------------------------------+----+---------+-------------+---------+--------+--------+-------------+----------------------------+----------------------------+------------------------------------+------------------------------------+\n",
      "|2025-05-03|20:00|ASB Nuisance  |Rowdy Or Inconsiderate Behaviour|Mental Health                   |ASB Nuisance            |            |Inform / Informed      |                              |EA06|         |0            |No       |1       |20258   |E05014058    |Chadwell Heath              |E05014058                   |Barking and Dagenham                |KG                                  |\n",
      "|2025-06-12|13:00|ASB Nuisance  |                                |                                |Civil Disputes          |            |Inform / Informed      |                              |SW61|         |0            |No       |1       |20258   |E05014012    |Falconbrook                 |E05014012                   |Wandsworth                          |WW                                  |\n",
      "|2025-06-12|13:00|ASB Personal  |Drugs Offence                   |                                |Suspicious Circumstances|            |CRIMINT Entry          |                              |AS41|         |489          |No       |1       |20258   |E05011110    |Peckham                     |E05011110                   |Southwark                           |MD                                  |\n",
      "|2025-05-13|16:00|ASB Nuisance  |Veh Nuisance / Inappropriate Use|Repeat Caller and / Or Victim   |ASB Nuisance            |            |Inform / Informed      |                              |WA51|         |0            |No       |1       |20258   |E05013611    |Chiswick Riverside          |E05013611                   |Hounslow                            |TX                                  |\n",
      "|2025-06-12|13:00|ASB Nuisance  |Begging / Vagrancy              |                                |ASB Nuisance            |            |Inform / Informed      |                              |CN19|         |0            |No       |1       |20258   |E05013669    |Camden Town Centre          |E0900000701T                |Camden                              |EK                                  |\n",
      "|2025-05-13|16:00|ASB Personal  |Rowdy Or Inconsiderate Behaviour|Prejudice - Racial              |Suspicious Circumstances|            |No Offences Disclosed  |                              |CN19|         |0            |No       |1       |20258   |E05013669    |Camden Town Centre          |E0900000701T                |Camden                              |EK                                  |\n",
      "|2025-06-12|16:00|ASB Nuisance  |Rowdy / Nuisance Neighbours     |Rowdy Or Inconsiderate Behaviour|Criminal Damage         |            |CRIS Entry/Updated     |                              |NA36|         |0            |No       |1       |20258   |E05013595    |Noel Park                   |E05013595N                  |Haringey                            |YR                                  |\n",
      "|2025-06-12|16:00|ASB Personal  |Rowdy / Nuisance Neighbours     |                                |ASB Nuisance            |            |Other Agencies Informed|Police Attendance Not Required|SE19|         |0            |No       |1       |20258   |E05014073    |Blackheath Westcombe        |E05014073                   |Greenwich                           |RG                                  |\n",
      "|2025-05-03|17:00|ASB Nuisance  |Rowdy Or Inconsiderate Behaviour|Alcohol                         |Duplicate               |            |Linked                 |                              |NA36|         |0            |Ye       |1       |20258   |E05013595    |Noel Park                   |E05013595N                  |Haringey                            |YR                                  |\n",
      "|2025-05-04|21:00|ASB Nuisance  |Rowdy Or Inconsiderate Behaviour|                                |ASB Nuisance            |            |Inform / Informed      |                              |NE36|         |0            |No       |1       |20258   |E05013893    |Hoe Street                  |E05013893                   |Waltham Forest                      |JC                                  |\n",
      "+----------+-----+--------------+--------------------------------+--------------------------------+------------------------+------------+-----------------------+------------------------------+----+---------+-------------+---------+--------+--------+-------------+----------------------------+----------------------------+------------------------------------+------------------------------------+\n",
      "only showing top 10 rows\n",
      "\n"
     ]
    }
   ],
   "source": [
    "col_to_drop = [\n",
    "        'op01',\n",
    "        'op02',\n",
    "        'op03',\n",
    "        'cl01',\n",
    "        'cl02',\n",
    "        'cl03',\n",
    "        'close_type_3']\n",
    "def clean_data(df, drop):\n",
    "    \"\"\"\n",
    "    Cleans the data by dropping col from drop.\n",
    "\n",
    "    Args:\n",
    "        df (DataFrame): The DataFrame to be cleaned.\n",
    "\n",
    "    Returns:\n",
    "        DataFrame: The cleaned DataFrame.\n",
    "    \"\"\"\n",
    "    df = df.drop(*drop)\n",
    "\n",
    "    return df\n",
    "df = clean_data(df, col_to_drop)\n",
    "df.show(10, False)"
   ]
  },
  {
   "cell_type": "markdown",
   "id": "21f02ab4",
   "metadata": {},
   "source": [
    "Example: Write the data in the DynamicFrame to a location in Amazon S3 and a table for it in the AWS Glue Data Catalog"
   ]
  },
  {
   "cell_type": "code",
   "execution_count": 8,
   "id": "47fbb429",
   "metadata": {},
   "outputs": [
    {
     "name": "stdout",
     "output_type": "stream",
     "text": [
      "{\"date\": \"2025-05-03\", \"hour\": \"20:00\", \"opening_type_1\": \"ASB Nuisance\", \"opening_type_2\": \"Rowdy Or Inconsiderate Behaviour\", \"opening_type_3\": \"Mental Health\", \"close_type_1\": \"ASB Nuisance\", \"close_type_2\": \"\", \"resolution_type_1\": \"Inform / Informed\", \"resolution_type_2\": \"\", \"ward\": \"EA06\", \"ward_code\": \"\", \"response_time\": 0, \"duplicate\": \"No\", \"asbcount\": 1, \"datetime\": 20258, \"ward_wardcode\": \"E05014058\", \"safer_neighborhood_team_name\": \"Chadwell Heath\", \"safer_neighborhood_team_code\": \"E05014058\", \"safer_neighborhood_team_borough_name\": \"Barking and Dagenham\", \"safer_neighborhood_team_borough_code\": \"KG\"}\n",
      "{\"date\": \"2025-06-12\", \"hour\": \"13:00\", \"opening_type_1\": \"ASB Nuisance\", \"opening_type_2\": \"\", \"opening_type_3\": \"\", \"close_type_1\": \"Civil Disputes\", \"close_type_2\": \"\", \"resolution_type_1\": \"Inform / Informed\", \"resolution_type_2\": \"\", \"ward\": \"SW61\", \"ward_code\": \"\", \"response_time\": 0, \"duplicate\": \"No\", \"asbcount\": 1, \"datetime\": 20258, \"ward_wardcode\": \"E05014012\", \"safer_neighborhood_team_name\": \"Falconbrook\", \"safer_neighborhood_team_code\": \"E05014012\", \"safer_neighborhood_team_borough_name\": \"Wandsworth\", \"safer_neighborhood_team_borough_code\": \"WW\"}\n",
      "{\"date\": \"2025-06-12\", \"hour\": \"13:00\", \"opening_type_1\": \"ASB Personal\", \"opening_type_2\": \"Drugs Offence\", \"opening_type_3\": \"\", \"close_type_1\": \"Suspicious Circumstances\", \"close_type_2\": \"\", \"resolution_type_1\": \"CRIMINT Entry\", \"resolution_type_2\": \"\", \"ward\": \"AS41\", \"ward_code\": \"\", \"response_time\": 489, \"duplicate\": \"No\", \"asbcount\": 1, \"datetime\": 20258, \"ward_wardcode\": \"E05011110\", \"safer_neighborhood_team_name\": \"Peckham\", \"safer_neighborhood_team_code\": \"E05011110\", \"safer_neighborhood_team_borough_name\": \"Southwark\", \"safer_neighborhood_team_borough_code\": \"MD\"}\n",
      "{\"date\": \"2025-05-13\", \"hour\": \"16:00\", \"opening_type_1\": \"ASB Nuisance\", \"opening_type_2\": \"Veh Nuisance / Inappropriate Use\", \"opening_type_3\": \"Repeat Caller and / Or Victim\", \"close_type_1\": \"ASB Nuisance\", \"close_type_2\": \"\", \"resolution_type_1\": \"Inform / Informed\", \"resolution_type_2\": \"\", \"ward\": \"WA51\", \"ward_code\": \"\", \"response_time\": 0, \"duplicate\": \"No\", \"asbcount\": 1, \"datetime\": 20258, \"ward_wardcode\": \"E05013611\", \"safer_neighborhood_team_name\": \"Chiswick Riverside\", \"safer_neighborhood_team_code\": \"E05013611\", \"safer_neighborhood_team_borough_name\": \"Hounslow\", \"safer_neighborhood_team_borough_code\": \"TX\"}\n",
      "{\"date\": \"2025-06-12\", \"hour\": \"13:00\", \"opening_type_1\": \"ASB Nuisance\", \"opening_type_2\": \"Begging / Vagrancy\", \"opening_type_3\": \"\", \"close_type_1\": \"ASB Nuisance\", \"close_type_2\": \"\", \"resolution_type_1\": \"Inform / Informed\", \"resolution_type_2\": \"\", \"ward\": \"CN19\", \"ward_code\": \"\", \"response_time\": 0, \"duplicate\": \"No\", \"asbcount\": 1, \"datetime\": 20258, \"ward_wardcode\": \"E05013669\", \"safer_neighborhood_team_name\": \"Camden Town Centre\", \"safer_neighborhood_team_code\": \"E0900000701T\", \"safer_neighborhood_team_borough_name\": \"Camden\", \"safer_neighborhood_team_borough_code\": \"EK\"}\n",
      "{\"date\": \"2025-05-13\", \"hour\": \"16:00\", \"opening_type_1\": \"ASB Personal\", \"opening_type_2\": \"Rowdy Or Inconsiderate Behaviour\", \"opening_type_3\": \"Prejudice - Racial\", \"close_type_1\": \"Suspicious Circumstances\", \"close_type_2\": \"\", \"resolution_type_1\": \"No Offences Disclosed\", \"resolution_type_2\": \"\", \"ward\": \"CN19\", \"ward_code\": \"\", \"response_time\": 0, \"duplicate\": \"No\", \"asbcount\": 1, \"datetime\": 20258, \"ward_wardcode\": \"E05013669\", \"safer_neighborhood_team_name\": \"Camden Town Centre\", \"safer_neighborhood_team_code\": \"E0900000701T\", \"safer_neighborhood_team_borough_name\": \"Camden\", \"safer_neighborhood_team_borough_code\": \"EK\"}\n",
      "{\"date\": \"2025-06-12\", \"hour\": \"16:00\", \"opening_type_1\": \"ASB Nuisance\", \"opening_type_2\": \"Rowdy / Nuisance Neighbours\", \"opening_type_3\": \"Rowdy Or Inconsiderate Behaviour\", \"close_type_1\": \"Criminal Damage\", \"close_type_2\": \"\", \"resolution_type_1\": \"CRIS Entry/Updated\", \"resolution_type_2\": \"\", \"ward\": \"NA36\", \"ward_code\": \"\", \"response_time\": 0, \"duplicate\": \"No\", \"asbcount\": 1, \"datetime\": 20258, \"ward_wardcode\": \"E05013595\", \"safer_neighborhood_team_name\": \"Noel Park\", \"safer_neighborhood_team_code\": \"E05013595N\", \"safer_neighborhood_team_borough_name\": \"Haringey\", \"safer_neighborhood_team_borough_code\": \"YR\"}\n",
      "{\"date\": \"2025-06-12\", \"hour\": \"16:00\", \"opening_type_1\": \"ASB Personal\", \"opening_type_2\": \"Rowdy / Nuisance Neighbours\", \"opening_type_3\": \"\", \"close_type_1\": \"ASB Nuisance\", \"close_type_2\": \"\", \"resolution_type_1\": \"Other Agencies Informed\", \"resolution_type_2\": \"Police Attendance Not Required\", \"ward\": \"SE19\", \"ward_code\": \"\", \"response_time\": 0, \"duplicate\": \"No\", \"asbcount\": 1, \"datetime\": 20258, \"ward_wardcode\": \"E05014073\", \"safer_neighborhood_team_name\": \"Blackheath Westcombe\", \"safer_neighborhood_team_code\": \"E05014073\", \"safer_neighborhood_team_borough_name\": \"Greenwich\", \"safer_neighborhood_team_borough_code\": \"RG\"}\n",
      "{\"date\": \"2025-05-03\", \"hour\": \"17:00\", \"opening_type_1\": \"ASB Nuisance\", \"opening_type_2\": \"Rowdy Or Inconsiderate Behaviour\", \"opening_type_3\": \"Alcohol\", \"close_type_1\": \"Duplicate\", \"close_type_2\": \"\", \"resolution_type_1\": \"Linked \", \"resolution_type_2\": \"\", \"ward\": \"NA36\", \"ward_code\": \"\", \"response_time\": 0, \"duplicate\": \"Ye\", \"asbcount\": 1, \"datetime\": 20258, \"ward_wardcode\": \"E05013595\", \"safer_neighborhood_team_name\": \"Noel Park\", \"safer_neighborhood_team_code\": \"E05013595N\", \"safer_neighborhood_team_borough_name\": \"Haringey\", \"safer_neighborhood_team_borough_code\": \"YR\"}\n",
      "{\"date\": \"2025-05-04\", \"hour\": \"21:00\", \"opening_type_1\": \"ASB Nuisance\", \"opening_type_2\": \"Rowdy Or Inconsiderate Behaviour\", \"opening_type_3\": \"\", \"close_type_1\": \"ASB Nuisance\", \"close_type_2\": \"\", \"resolution_type_1\": \"Inform / Informed\", \"resolution_type_2\": \"\", \"ward\": \"NE36\", \"ward_code\": \"\", \"response_time\": 0, \"duplicate\": \"No\", \"asbcount\": 1, \"datetime\": 20258, \"ward_wardcode\": \"E05013893\", \"safer_neighborhood_team_name\": \"Hoe Street\", \"safer_neighborhood_team_code\": \"E05013893\", \"safer_neighborhood_team_borough_name\": \"Waltham Forest\", \"safer_neighborhood_team_borough_code\": \"JC\"}\n",
      "{\"date\": \"2025-06-12\", \"hour\": \"15:00\", \"opening_type_1\": \"ASB Nuisance\", \"opening_type_2\": \"Rowdy Or Inconsiderate Behaviour\", \"opening_type_3\": \"Repeat Caller and / Or Victim\", \"close_type_1\": \"Duplicate\", \"close_type_2\": \"\", \"resolution_type_1\": \"Linked \", \"resolution_type_2\": \"\", \"ward\": \"AS08\", \"ward_code\": \"\", \"response_time\": 0, \"duplicate\": \"Ye\", \"asbcount\": 1, \"datetime\": 20258, \"ward_wardcode\": \"E05014102\", \"safer_neighborhood_team_name\": \"Clapham Town\", \"safer_neighborhood_team_code\": \"E05014102\", \"safer_neighborhood_team_borough_name\": \"Lambeth\", \"safer_neighborhood_team_borough_code\": \"LX\"}\n",
      "{\"date\": \"2025-05-02\", \"hour\": \"11:00\", \"opening_type_1\": \"ASB Nuisance\", \"opening_type_2\": \"Rowdy Or Inconsiderate Behaviour\", \"opening_type_3\": \"\", \"close_type_1\": \"ASB Nuisance\", \"close_type_2\": \"\", \"resolution_type_1\": \"Inform / Informed\", \"resolution_type_2\": \"\", \"ward\": \"AS33\", \"ward_code\": \"\", \"response_time\": 0, \"duplicate\": \"No\", \"asbcount\": 1, \"datetime\": 20258, \"ward_wardcode\": \"E05011102\", \"safer_neighborhood_team_name\": \"Faraday\", \"safer_neighborhood_team_code\": \"E05011102\", \"safer_neighborhood_team_borough_name\": \"Southwark\", \"safer_neighborhood_team_borough_code\": \"MD\"}\n",
      "{\"date\": \"2025-05-04\", \"hour\": \"21:00\", \"opening_type_1\": \"ASB Nuisance\", \"opening_type_2\": \"Rowdy Or Inconsiderate Behaviour\", \"opening_type_3\": \"Prostitution Related Activity\", \"close_type_1\": \"Contact Record \", \"close_type_2\": \"\", \"resolution_type_1\": \"Inform / Informed\", \"resolution_type_2\": \"\", \"ward\": \"NA23\", \"ward_code\": \"\", \"response_time\": 0, \"duplicate\": \"No\", \"asbcount\": 1, \"datetime\": 20258, \"ward_wardcode\": \"E05013694\", \"safer_neighborhood_team_name\": \"Upper Edmonton\", \"safer_neighborhood_team_code\": \"E05013694\", \"safer_neighborhood_team_borough_name\": \"Enfield\", \"safer_neighborhood_team_borough_code\": \"YE\"}\n",
      "{\"date\": \"2025-05-13\", \"hour\": \"16:00\", \"opening_type_1\": \"ASB Nuisance\", \"opening_type_2\": \"Veh Nuisance / Inappropriate Use\", \"opening_type_3\": \"\", \"close_type_1\": \"ASB Nuisance\", \"close_type_2\": \"\", \"resolution_type_1\": \"Police Attendance Not Required\", \"resolution_type_2\": \"\", \"ward\": \"NA32\", \"ward_code\": \"\", \"response_time\": 0, \"duplicate\": \"No\", \"asbcount\": 1, \"datetime\": 20258, \"ward_wardcode\": \"E05013591\", \"safer_neighborhood_team_name\": \"Hermitage & Gardens\", \"safer_neighborhood_team_code\": \"E05013591\", \"safer_neighborhood_team_borough_name\": \"Haringey\", \"safer_neighborhood_team_borough_code\": \"YR\"}\n",
      "{\"date\": \"2025-05-13\", \"hour\": \"16:00\", \"opening_type_1\": \"ASB Nuisance\", \"opening_type_2\": \"Rowdy Or Inconsiderate Behaviour\", \"opening_type_3\": \"\", \"close_type_1\": \"ASB Nuisance\", \"close_type_2\": \"\", \"resolution_type_1\": \"Inform / Informed\", \"resolution_type_2\": \"\", \"ward\": \"SE07\", \"ward_code\": \"\", \"response_time\": 0, \"duplicate\": \"No\", \"asbcount\": 1, \"datetime\": 20258, \"ward_wardcode\": \"E05011223\", \"safer_neighborhood_team_name\": \"Crook Log\", \"safer_neighborhood_team_code\": \"E05011223\", \"safer_neighborhood_team_borough_name\": \"Bexley\", \"safer_neighborhood_team_borough_code\": \"RY\"}\n",
      "{\"date\": \"2025-05-13\", \"hour\": \"16:00\", \"opening_type_1\": \"ASB Nuisance\", \"opening_type_2\": \"Rowdy / Nuisance Neighbours\", \"opening_type_3\": \"Repeat Caller and / Or Victim\", \"close_type_1\": \"ASB Nuisance\", \"close_type_2\": \"\", \"resolution_type_1\": \"Advice Given\", \"resolution_type_2\": \"\", \"ward\": \"AW13\", \"ward_code\": \"\", \"response_time\": 0, \"duplicate\": \"No\", \"asbcount\": 1, \"datetime\": 20258, \"ward_wardcode\": \"E05013745\", \"safer_neighborhood_team_name\": \"Parsons Green & Sandford\", \"safer_neighborhood_team_code\": \"E05013745\", \"safer_neighborhood_team_borough_name\": \"Hammersmith and Fulham\", \"safer_neighborhood_team_borough_code\": \"FH\"}\n",
      "{\"date\": \"2025-05-13\", \"hour\": \"16:00\", \"opening_type_1\": \"ASB Nuisance\", \"opening_type_2\": \"Drugs Offence\", \"opening_type_3\": \"Littering / Drugs Paraphernalia\", \"close_type_1\": \"ASB Nuisance\", \"close_type_2\": \"\", \"resolution_type_1\": \"No Trace\", \"resolution_type_2\": \"\", \"ward\": \"SE41\", \"ward_code\": \"\", \"response_time\": 2174, \"duplicate\": \"No\", \"asbcount\": 1, \"datetime\": 20258, \"ward_wardcode\": \"E05013714\", \"safer_neighborhood_team_name\": \"Bellingham\", \"safer_neighborhood_team_code\": \"E05013714\", \"safer_neighborhood_team_borough_name\": \"Lewisham\", \"safer_neighborhood_team_borough_code\": \"PL\"}\n",
      "{\"date\": \"2025-05-13\", \"hour\": \"16:00\", \"opening_type_1\": \"ASB Nuisance\", \"opening_type_2\": \"Rowdy Or Inconsiderate Behaviour\", \"opening_type_3\": \"Drug Related\", \"close_type_1\": \"ASB Nuisance\", \"close_type_2\": \"\", \"resolution_type_1\": \"Inform / Informed\", \"resolution_type_2\": \"\", \"ward\": \"NW58\", \"ward_code\": \"\", \"response_time\": 0, \"duplicate\": \"No\", \"asbcount\": 1, \"datetime\": 20258, \"ward_wardcode\": \"E05013553\", \"safer_neighborhood_team_name\": \"Marlborough\", \"safer_neighborhood_team_code\": \"E05013553\", \"safer_neighborhood_team_borough_name\": \"Harrow\", \"safer_neighborhood_team_borough_code\": \"QA\"}\n",
      "{\"date\": \"2025-07-11\", \"hour\": \"12:00\", \"opening_type_1\": \"ASB Nuisance\", \"opening_type_2\": \"Rowdy Or Inconsiderate Behaviour\", \"opening_type_3\": \"Drug Related\", \"close_type_1\": \"ASB Nuisance\", \"close_type_2\": \"\", \"resolution_type_1\": \"No Offences Disclosed\", \"resolution_type_2\": \"\", \"ward\": \"AS44\", \"ward_code\": \"\", \"response_time\": 1584, \"duplicate\": \"No\", \"asbcount\": 1, \"datetime\": 20258, \"ward_wardcode\": \"E05011113\", \"safer_neighborhood_team_name\": \"Rye Lane\", \"safer_neighborhood_team_code\": \"E05011113\", \"safer_neighborhood_team_borough_name\": \"Southwark\", \"safer_neighborhood_team_borough_code\": \"MD\"}\n",
      "{\"date\": \"2025-05-13\", \"hour\": \"16:00\", \"opening_type_1\": \"ASB Nuisance\", \"opening_type_2\": \"Rowdy Or Inconsiderate Behaviour\", \"opening_type_3\": \"\", \"close_type_1\": \"ASB Nuisance\", \"close_type_2\": \"\", \"resolution_type_1\": \"Police Attendance Not Required\", \"resolution_type_2\": \"\", \"ward\": \"AW41\", \"ward_code\": \"\", \"response_time\": 0, \"duplicate\": \"No\", \"asbcount\": 1, \"datetime\": 20258, \"ward_wardcode\": \"E05013793\", \"safer_neighborhood_team_name\": \"Bayswater\", \"safer_neighborhood_team_code\": \"E05013793\", \"safer_neighborhood_team_borough_name\": \"Westminster\", \"safer_neighborhood_team_borough_code\": \"CW\"}\n"
     ]
    }
   ],
   "source": [
    "from awsglue.dynamicframe import DynamicFrame\n",
    "cleaned_data = DynamicFrame.fromDF(df, glueContext, \"cleaned_data\")\n",
    "cleaned_data.show()"
   ]
  },
  {
   "cell_type": "code",
   "execution_count": null,
   "id": "7f14314b",
   "metadata": {},
   "outputs": [
    {
     "name": "stderr",
     "output_type": "stream",
     "text": [
      "[Stage 6:>                                                          (0 + 1) / 1]\r"
     ]
    }
   ],
   "source": [
    "s3_bucket_path = 's3://uros75-police-data/cleaned/'\n",
    "def write_data(glueContext, dyf, database, table):\n",
    "    \"\"\"\n",
    "    Writes the DynamicFrame to S3 and updates the DataCatalog.\n",
    "\n",
    "    Args:\n",
    "        glueContext (GlueContext): The Glue context object.\n",
    "        dyf (DynamicFrame): The DynamicFrame to write.\n",
    "        database (str): The name of the DataCatalog database.\n",
    "        table (str): The name of the table in the DataCatalog.\n",
    "    \"\"\"\n",
    "    s3output = glueContext.getSink(\n",
    "    path=s3_bucket_path,\n",
    "    connection_type=\"s3\",\n",
    "    updateBehavior=\"UPDATE_IN_DATABASE\",\n",
    "    partitionKeys=[\"date\"],\n",
    "    compression=\"snappy\",\n",
    "    enableUpdateCatalog=True,\n",
    "    transformation_ctx=\"s3output\",\n",
    "    )\n",
    "    s3output.setCatalogInfo(\n",
    "    catalogDatabase=database, catalogTableName=f'{table}_cleaned'\n",
    "    )\n",
    "    s3output.setFormat(\"glueparquet\")\n",
    "    s3output.writeFrame(dyf)\n",
    "write_data(glueContext, cleaned_data, args['DATABASE'], args['TABLE'])\n"
   ]
  }
 ],
 "metadata": {
  "kernelspec": {
   "display_name": "Python 3",
   "language": "python",
   "name": "python3"
  },
  "language_info": {
   "codemirror_mode": {
    "name": "ipython",
    "version": 3
   },
   "file_extension": ".py",
   "mimetype": "text/x-python",
   "name": "python",
   "nbconvert_exporter": "python",
   "pygments_lexer": "ipython3",
   "version": "3.11.13"
  }
 },
 "nbformat": 4,
 "nbformat_minor": 5
}
