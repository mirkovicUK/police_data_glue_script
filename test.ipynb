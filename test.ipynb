{
 "cells": [
  {
   "cell_type": "code",
   "execution_count": 11,
   "id": "1800e60a",
   "metadata": {},
   "outputs": [
    {
     "name": "stdout",
     "output_type": "stream",
     "text": [
      "root\n",
      "|-- id: long\n",
      "|-- mixed_field: string\n",
      "|-- name: string\n",
      "\n"
     ]
    }
   ],
   "source": [
    "from awsglue.dynamicframe import DynamicFrame\n",
    "from pyspark.sql import Row\n",
    "import sys\n",
    "from awsglue.transforms import *\n",
    "from awsglue.utils import getResolvedOptions\n",
    "from pyspark.context import SparkContext\n",
    "from awsglue.context import GlueContext\n",
    "from awsglue.job import Job\n",
    "\n",
    "sc = SparkContext.getOrCreate()\n",
    "glueContext = GlueContext(sc)\n",
    "spark = glueContext.spark_session\n",
    "\n",
    "# Create data with mixed types in same column\n",
    "data = [\n",
    "    Row(id=1, mixed_field=100, name=\"John\"),\n",
    "    Row(id=2, mixed_field=\"text\", name=\"Jane\"), \n",
    "    Row(id=3, mixed_field=200, name=\"Bob\"),\n",
    "    Row(id=4, mixed_field=\"more_text\", name=\"Alice\")\n",
    "]\n",
    "\n",
    "# Create RDD and convert to DynamicFrame\n",
    "from pyspark.sql.types import *\n",
    "from pyspark.sql import Row\n",
    "\n",
    "import json\n",
    "\n",
    "# Create JSON strings with mixed types\n",
    "json_data = [\n",
    "    '{\"id\": 1, \"mixed_field\": 100, \"name\": \"John\"}',\n",
    "    '{\"id\": 2, \"mixed_field\": \"text\", \"name\": \"Jane\"}',\n",
    "    '{\"id\": 3, \"mixed_field\": 200, \"name\": \"Bob\"}',\n",
    "    '{\"id\": 4, \"mixed_field\": \"more_text\", \"name\": \"Alice\"}'\n",
    "]\n",
    "\n",
    "# Create DataFrame from JSON (preserves mixed types)\n",
    "df = spark.read.json(sc.parallelize(json_data))\n",
    "\n",
    "# Convert to DynamicFrame\n",
    "dyf_choice = DynamicFrame.fromDF(df, glueContext, \"choice_test\")\n",
    "\n",
    "dyf_choice.printSchema()\n",
    "\n",
    "\n",
    "\n"
   ]
  }
 ],
 "metadata": {
  "kernelspec": {
   "display_name": "Python 3",
   "language": "python",
   "name": "python3"
  },
  "language_info": {
   "codemirror_mode": {
    "name": "ipython",
    "version": 3
   },
   "file_extension": ".py",
   "mimetype": "text/x-python",
   "name": "python",
   "nbconvert_exporter": "python",
   "pygments_lexer": "ipython3",
   "version": "3.11.13"
  }
 },
 "nbformat": 4,
 "nbformat_minor": 5
}
